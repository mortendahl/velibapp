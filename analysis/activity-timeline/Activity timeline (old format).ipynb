{
 "cells": [
  {
   "cell_type": "code",
   "execution_count": null,
   "metadata": {
    "collapsed": false
   },
   "outputs": [],
   "source": [
    "%matplotlib inline\n",
    "\n",
    "import os\n",
    "import json\n",
    "from datetime import datetime, timedelta\n",
    "from collections import defaultdict\n",
    "\n",
    "import numpy as np\n",
    "from pandas import Series, DataFrame\n",
    "\n",
    "import matplotlib.pyplot as plt"
   ]
  },
  {
   "cell_type": "code",
   "execution_count": null,
   "metadata": {
    "collapsed": false
   },
   "outputs": [],
   "source": [
    "events = map(lambda line: json.loads(line), open('eventstore.json', 'rt'))\n",
    "events = filter(lambda event: event['class'] == 'ActivityUpdateEvent', events)\n",
    "events = list(events)\n",
    "for event in events:\n",
    "    event.update({'datetime': datetime.fromtimestamp(event['timestamp'] / 1000)})\n",
    "    \n",
    "min_datetime = datetime.now() - timedelta(hours=24)\n",
    "events = list(filter(lambda event: min_datetime <= event['datetime'], events))\n",
    "\n",
    "#types = [ 'vehicle', 'bicycle', 'foot', 'running', 'still', 'tilting', 'unknown', 'walking' ]\n",
    "types = [ 'vehicle', 'bicycle', 'foot', 'running', 'still', 'walking' ]\n",
    "curves = dict( (type, dict()) for type in types )\n",
    "\n",
    "events_oldformat = filter(lambda e: 'type' in e, events)\n",
    "for event in events_oldformat:\n",
    "    dt = event['datetime']\n",
    "    for type in types:\n",
    "        curves[type][dt] = event.get('confidence', 0) if type == event.get('type') else 0\n",
    "\n",
    "ts = DataFrame(curves)\n",
    "ts.plot(kind='line', figsize=(100,15), ylim=(-5,105))"
   ]
  },
  {
   "cell_type": "code",
   "execution_count": null,
   "metadata": {
    "collapsed": true
   },
   "outputs": [],
   "source": []
  }
 ],
 "metadata": {
  "kernelspec": {
   "display_name": "Python 3",
   "language": "python",
   "name": "python3"
  },
  "language_info": {
   "codemirror_mode": {
    "name": "ipython",
    "version": 3
   },
   "file_extension": ".py",
   "mimetype": "text/x-python",
   "name": "python",
   "nbconvert_exporter": "python",
   "pygments_lexer": "ipython3",
   "version": "3.4.3"
  }
 },
 "nbformat": 4,
 "nbformat_minor": 0
}
