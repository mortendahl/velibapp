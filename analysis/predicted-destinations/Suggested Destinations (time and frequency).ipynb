{
 "cells": [
  {
   "cell_type": "code",
   "execution_count": null,
   "metadata": {
    "collapsed": true
   },
   "outputs": [],
   "source": [
    "import json\n",
    "from datetime import datetime\n",
    "import numpy as np\n",
    "\n",
    "import matplotlib.pyplot as plt\n",
    "\n",
    "%matplotlib inline"
   ]
  },
  {
   "cell_type": "code",
   "execution_count": null,
   "metadata": {
    "collapsed": false
   },
   "outputs": [],
   "source": [
    "# load all events from store\n",
    "all_events = list( json.loads(event) for event in open('eventstore.json', 'rt') )\n",
    "# convert timestamp to datetime object\n",
    "for event in all_events:\n",
    "    event.update({'datetime': datetime.fromtimestamp(event['timestamp'] / 1000)})"
   ]
  },
  {
   "cell_type": "code",
   "execution_count": null,
   "metadata": {
    "collapsed": true
   },
   "outputs": [],
   "source": [
    "destination_events = list(filter(lambda e: e['class'] == 'SetDestinationEvent', all_events))\n",
    "\n",
    "destinations = destination_events"
   ]
  },
  {
   "cell_type": "code",
   "execution_count": null,
   "metadata": {
    "collapsed": false
   },
   "outputs": [],
   "source": [
    "from sklearn.cluster import DBSCAN\n",
    "from sklearn import metrics\n",
    "\n",
    "from pygeocoder import Geocoder\n",
    "\n",
    "def cluster_destinations(destinations):\n",
    "    S = np.array(destinations)\n",
    "    X = np.array([ [ d['latitude'], d['longitude'] ] for d in destinations ])\n",
    "    db = DBSCAN(eps=0.0005, min_samples=3).fit(X)\n",
    "    Y = db.labels_\n",
    "    #print('Overall score {score:.5f}'.format(score=metrics.silhouette_score(X, Y)))\n",
    "    for label in np.unique(Y):\n",
    "        if label == -1: continue\n",
    "        positions = X[Y == label]\n",
    "        subdestinations = S[Y == label]\n",
    "        assert(len(positions) == len(subdestinations))\n",
    "        latitude = np.mean(positions[:,0])\n",
    "        longitude = np.mean(positions[:,1])        \n",
    "        address = str(Geocoder.reverse_geocode(latitude, longitude)[0])\n",
    "        yield {'latitude':latitude, 'longitude':longitude, 'address':address, 'points':subdestinations.tolist()}"
   ]
  },
  {
   "cell_type": "code",
   "execution_count": null,
   "metadata": {
    "collapsed": false
   },
   "outputs": [],
   "source": [
    "from sklearn.neighbors import KernelDensity\n",
    "\n",
    "priors = []\n",
    "kernels = []\n",
    "\n",
    "Xs = []  # store for plotting\n",
    "\n",
    "clusters = list(cluster_destinations(destination_events))\n",
    "\n",
    "for cluster in clusters:\n",
    "    X = np.array( list(map(lambda e: e['datetime'].hour * 60 + e['datetime'].minute, cluster['points'])) )[:, np.newaxis]\n",
    "    kernel = KernelDensity(kernel='gaussian', bandwidth=15).fit(X)\n",
    "    kernels.append(kernel)\n",
    "    Xs.append(X)\n",
    "    \n",
    "for cluster in clusters:\n",
    "    number_of_points = len(cluster['points'])\n",
    "    priors.append(number_of_points)"
   ]
  },
  {
   "cell_type": "code",
   "execution_count": null,
   "metadata": {
    "collapsed": false
   },
   "outputs": [],
   "source": [
    "fig, ax = plt.subplots(figsize=(20,10))\n",
    "xmin = 0\n",
    "xmax = 24 * 60 - 1\n",
    "\n",
    "colors = 'bgrcmyk'\n",
    "for i, cluster in enumerate(clusters):\n",
    "    kernel = kernels[i]\n",
    "    X_plot = np.linspace(xmin, xmax, xmax+1)[:, np.newaxis]\n",
    "    log_density = kernel.score_samples(X_plot)\n",
    "    density = np.exp(log_density) * priors[i]\n",
    "    ax.plot(X_plot[:, 0], density, '-', label=cluster['address'], color=colors[i])\n",
    "    ax.plot(Xs[i], -0.01 - 0.03 * np.random.random(Xs[i].shape[0]), '+' + colors[i])\n",
    "\n",
    "ax.legend()#loc='upper left')\n",
    "ax.set_xlim(xmin, xmax)\n",
    "plt.show()"
   ]
  },
  {
   "cell_type": "code",
   "execution_count": null,
   "metadata": {
    "collapsed": false
   },
   "outputs": [],
   "source": [
    "def suggest(hour, minute):\n",
    "    time = hour * 60 + minute\n",
    "    print(time)\n",
    "    posteriors = list( (i, np.exp(kernels[i].score(time))) for i, cluster in enumerate(clusters) )\n",
    "    posteriors.sort(key=lambda x: x[1], reverse=True)\n",
    "    suggested_destinations = list( clusters[i] for i, _ in posteriors )\n",
    "\n",
    "    for i, suggested_destination in enumerate(suggested_destinations):\n",
    "        print('{0}: {1}'.format(i, suggested_destination['address']))\n",
    "\n",
    "now = datetime.now()\n",
    "suggest(now.hour, now.minute)\n",
    "print()\n",
    "        \n",
    "suggest(9, 45)\n",
    "print()\n",
    "\n",
    "suggest(19, 15)\n",
    "print()"
   ]
  },
  {
   "cell_type": "code",
   "execution_count": null,
   "metadata": {
    "collapsed": true
   },
   "outputs": [],
   "source": []
  }
 ],
 "metadata": {
  "kernelspec": {
   "display_name": "Python 3",
   "language": "python",
   "name": "python3"
  },
  "language_info": {
   "codemirror_mode": {
    "name": "ipython",
    "version": 3
   },
   "file_extension": ".py",
   "mimetype": "text/x-python",
   "name": "python",
   "nbconvert_exporter": "python",
   "pygments_lexer": "ipython3",
   "version": "3.4.3"
  }
 },
 "nbformat": 4,
 "nbformat_minor": 0
}
